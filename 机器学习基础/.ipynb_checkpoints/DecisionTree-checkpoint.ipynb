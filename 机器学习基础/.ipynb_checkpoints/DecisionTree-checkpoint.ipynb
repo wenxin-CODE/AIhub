{
 "cells": [
  {
   "cell_type": "markdown",
   "metadata": {},
   "source": [
    "## 决策树\n",
    "\n",
    "决策树通过递归的方式来构建，每次根据当前节点的属性值来选择类别，根据这个属性值来将数据集分为两个子集，然后继续递归的构建子树，直到所有的叶子节点都是 pure node。\n",
    "举个例子，你想知道一部影片是否属于限制级的，那么首先可以判断这部影片是否是国产，如果是国产，那么一定不是限制级。如果不是国产，那么进一步判断，参演人员中是否包含限制级演员，如果不包含，那么一定不是限制级，如果包含，则对剧情做进一步的划分。\n",
    "以上过程中，每一次判断都是对某个属性的测试，判断结果要么导出结论，要么导出进一步判断的问题。如果是后一种，那么当前子集的考虑范围是在上次决策结果的限定范围内。\n",
    "一个节点被判断为叶节点【分类结果】有三种情况：\n",
    "    1. 所有数据属于同一类，此时无需再划分\n",
    "    2. 所有属性已经用完【或者所有样本的剩余属性值均相同】，此时即便数据没有被完全区分，也会选择样本占比最多的那一类作为分类结果【属于后验分布】【例如上面说的非国产，不包含限制级演员影片】\n",
    "    3. 当前节点包含的样本集合为空，不能划分，此时类别设为父节点中包含样本最多的类别【属于先验分布】\n",
    "\n",
    "### 1. 决策树算法\n",
    "\n",
    "\n",
    "\n",
    "### 2. 决策树算法的实现\n",
    "\n",
    "\n",
    "\n",
    "### 3. 决策树算法的优缺点"
   ]
  },
  {
   "cell_type": "code",
   "execution_count": null,
   "metadata": {},
   "outputs": [],
   "source": []
  }
 ],
 "metadata": {
  "kernelspec": {
   "display_name": "Python 3 (ipykernel)",
   "language": "python",
   "name": "python3"
  },
  "language_info": {
   "codemirror_mode": {
    "name": "ipython",
    "version": 3
   },
   "file_extension": ".py",
   "mimetype": "text/x-python",
   "name": "python",
   "nbconvert_exporter": "python",
   "pygments_lexer": "ipython3",
   "version": "3.8.15"
  }
 },
 "nbformat": 4,
 "nbformat_minor": 2
}

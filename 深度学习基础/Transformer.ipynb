{
 "cells": [
  {
   "cell_type": "markdown",
   "metadata": {},
   "source": [
    "Transformer属于seq-to-seq模型【n-n；n-1；n-m】。seq-to-seq模型一般结构是（encoder-decoder）形式\n",
    "Transformer的self-attention融合了残差连接，其中的Norm是层归一化，add是残差连接\n",
    "\n",
    "![](./img/encoder.png)\n",
    "\n",
    "\n",
    "decoder属于自回归模型\n",
    "\n",
    "NLP问题通常可以转化为QA问题 "
   ]
  }
 ],
 "metadata": {
  "kernelspec": {
   "display_name": "d2l",
   "language": "python",
   "name": "python3"
  },
  "language_info": {
   "codemirror_mode": {
    "name": "ipython",
    "version": 3
   },
   "file_extension": ".py",
   "mimetype": "text/x-python",
   "name": "python",
   "nbconvert_exporter": "python",
   "pygments_lexer": "ipython3",
   "version": "3.8.15"
  }
 },
 "nbformat": 4,
 "nbformat_minor": 2
}
